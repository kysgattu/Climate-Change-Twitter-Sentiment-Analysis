{
 "cells": [
  {
   "cell_type": "code",
   "execution_count": 1,
   "id": "8d3d5465",
   "metadata": {},
   "outputs": [],
   "source": [
    "import tweepy"
   ]
  },
  {
   "cell_type": "code",
   "execution_count": 2,
   "id": "84e64d3a",
   "metadata": {},
   "outputs": [],
   "source": [
    "# API Key: Q2RsEqlaSBEQK8QDChDUNxxmz\n",
    "# API Secret Key: Nbw2VqOGfVUX0gyJGsT5c96RbglWqEdFrgF4h7WUUfUMTjoXl6\n",
    "# Access Token: 1486419199413174272-KpXEGGkJcVrtqNLYo5xUtAPKX62Gch\n",
    "# Access Secret Token: TUxRgI4xWx5bNn5RUaVc1ca7HVKsw1MkBVA14qWxKC3Kk\n",
    "\n",
    "consumer_key = \"Q2RsEqlaSBEQK8QDChDUNxxmz\"\n",
    "consumer_secret = \"Nbw2VqOGfVUX0gyJGsT5c96RbglWqEdFrgF4h7WUUfUMTjoXl6\"\n",
    "access_token = \"1486419199413174272-KpXEGGkJcVrtqNLYo5xUtAPKX62Gch\"\n",
    "access_token_secret = \"TUxRgI4xWx5bNn5RUaVc1ca7HVKsw1MkBVA14qWxKC3Kk\""
   ]
  },
  {
   "cell_type": "code",
   "execution_count": 3,
   "id": "b6a7c859",
   "metadata": {},
   "outputs": [],
   "source": [
    "#Establish Connection to Twitter API\n",
    "\n",
    "auth = tweepy.OAuthHandler(consumer_key, consumer_secret)\n",
    "auth.set_access_token(access_token, access_token_secret)\n",
    "api = tweepy.API(auth, wait_on_rate_limit=True)"
   ]
  },
  {
   "cell_type": "code",
   "execution_count": 4,
   "id": "f9107ec1",
   "metadata": {},
   "outputs": [],
   "source": [
    "#Hashtag used for scrapping tweets\n",
    "\n",
    "hashtag = \"#climatechange -filter:retweets\""
   ]
  },
  {
   "cell_type": "code",
   "execution_count": 5,
   "id": "db9f5cf9",
   "metadata": {},
   "outputs": [],
   "source": [
    "#list to store the tweets\n",
    "\n",
    "tweets_list = []"
   ]
  },
  {
   "cell_type": "code",
   "execution_count": 6,
   "id": "2daa9c28",
   "metadata": {},
   "outputs": [
    {
     "name": "stdout",
     "output_type": "stream",
     "text": [
      "Tweets Scrapped Successfully!\n"
     ]
    }
   ],
   "source": [
    "#Scrapping Tweets based on hashtag\n",
    "\n",
    "tweets_by_hashtag = tweepy.Cursor(api.search_tweets, q=hashtag, lang='en').items(100)\n",
    "print(\"Tweets Scrapped Successfully!\")"
   ]
  },
  {
   "cell_type": "code",
   "execution_count": 7,
   "id": "8eeb7cc4",
   "metadata": {},
   "outputs": [],
   "source": [
    "#Pulling and information from tweets and loading to the list using iterator object\n",
    "\n",
    "for tweet in tweets_by_hashtag:\n",
    "    '''\n",
    "    tweet_id = tweet.id \n",
    "    user_id = tweet.user.id\n",
    "    tweeted_by = tweet.user.name\n",
    "    tweet_content = str(tweet.text)\n",
    "    no_of_retweets = tweet.retweet_count\n",
    "    no_of_favourites = tweet.favorite_count\n",
    "    '''    \n",
    "    tweets_list.append([str(tweet.text), tweet.id])\n"
   ]
  },
  {
   "cell_type": "code",
   "execution_count": 8,
   "id": "a71c850e",
   "metadata": {
    "tags": []
   },
   "outputs": [
    {
     "name": "stdout",
     "output_type": "stream",
     "text": [
      "[['Not a great fan of this YT channel, but here they are 100% right.\\nIt is more than fair, that the opulent \"Global No… https://t.co/vzntQhsfZA', 1515718912146608137], [\"I'm going to need the Bahamian goverment and my fellow Bahamians to hear this. #globalwarming #climatechange\\nhttps://t.co/AguWv6ec2j\", 1515718660714807298], ['Understand how #data can help with reducing the impacts of extreme heat, flooding and other consequences of climate… https://t.co/waiuNiQ28v', 1515718488056246280], ['4 strategies for #Energy and #ClimateChange breakthroughs at the UN summits. (Fast Company) #Environment… https://t.co/yBQWuDKzsy', 1515718476962304003], ['The peppers at our farms are healthy, sweet and spicy. \\n\\n#MitiNiDawa #StoryYaMazingira #FaceTheClimateEmergency… https://t.co/SpMUs8ht2t', 1515717982923771912], ['#plasticpollution #climatechange #deforestation #ecokids #pollution #solutions\\n\\nTell #children about the #zerowaste… https://t.co/wToDThblRg', 1515717973616443394], [\"Did you know that your internet usage has an environmental impact?\\n\\nLet's take a look at the things consumers can d… https://t.co/nJwNuJjIDK\", 1515717218578800646], ['#Saguaro, Free of the #Earth | #SaguaroCactus #SonoraDesert #DesertLife #Community #AjoAZ #IndigenousPeople… https://t.co/91b2dFm52X', 1515717021417328644], [\"Sunday National ran an impressive list of Scotland's top carbon emitters - Ineos at Grangemouth, followed by cariou… https://t.co/nQp41k06e5\", 1515716950772658181], ['Happy ❄️ Snowy Easter from #iowa This is a first! #globalwarmimg #climatechange #winterspring #championship7v7… https://t.co/DZ8DqVUsRE', 1515716090797727748], ['What time is it?\\n\\n#geological #time #anthropocene #humancentric #climatechange https://t.co/3Xfbxy1BYY', 1515715871683063821], ['#ClimateChange: \\'We\\'re making wine in Norway\\' - \"...plants do need a little extra encouragement; they\\'re growing at… https://t.co/KdxC2wcDLJ', 1515715812824436740], ['As @riturv participated in the #GreenIndiaChallenge we\\'d like to thank her by presenting the \"Vanamali Badge of Hon… https://t.co/yjRVXAxovK', 1515715733128646662], ['How Many Americans Believe In #ClimateChange? #persuade #climatecrisis #climate #climateemergency https://t.co/TWxvoatfhy', 1515715094180683779], ['Can we finally agree that the next #Economy will be based on #ClimateChange  https://t.co/P7X4Y2aDEs', 1515714945958170626], ['Utilities Plan Huge Electric Grid Upgrades, Adding to Power Bills #fintwit #dteenergyco #powerbills #climatechange… https://t.co/VPn7LWD95a', 1515714807005159426], ['How Many Americans Believe In #ClimateChange? #persuade #climatecrisis #climate #climateemergency… https://t.co/cIcnrZGvpv', 1515714503190749185], ['#Germany\\'s \"Easter Package\" shows there is “a great will to advance wind energy quickly,” said @BWEeV\\npresident Her… https://t.co/ep1h8bhjtv', 1515714451269468161], ['The #FarmtoFork strategy aims to accelerate transition to a #sustainable #foodsystem that have a positive… https://t.co/CENo2mmrl4', 1515713572533374978], ['Your worried about #climatechange with the #rape &amp; #murder of civilians occurring in the #Ukraine. #Stop buying mad… https://t.co/T9nrxhmUN5', 1515712466751209476], ['While the ongoing human tragedy in Ukraine is devastating, we must not forget the damage done to the environment by… https://t.co/zN7EQasivU', 1515712437080764418], ['Ford Mustang Mach-E Prices Rise Significantly Due to Increased Material Costs https://t.co/k9PnEfr8e6… https://t.co/GXkxudFRYF', 1515712024684154882], [\"Fraud, climate change and 'pig butchering' #CryptoCurrency #climatechange via https://t.co/9UiYqby29m https://t.co/mnrx3AUA5R\", 1515711036330020879], ['#ClimateChange #Fascism #Automation #Inequality means #Resistance, #Steamdrills is #Inspiring… https://t.co/xmlFPK98Vg', 1515710964326440967], ['PCs pushing electric vehicle investments ahead of June election; too little too late transportation experts say… https://t.co/0v0DSWicga', 1515710927097630722], ['Tesla Model 3: Negatives After 4 Years Of Ownership https://t.co/R8CkBcBHbm #ElectricVehicles #Tesla #EV… https://t.co/43tMw8453l', 1515710761120718857], ['Highest temperatures today\\n\\n45  Pakistan\\n44  Libya India Chad\\n43  Mali\\n42 Egypt \\n41  Australia Brazil Senegal Oman… https://t.co/M0N5ld6Exz', 1515710550247985156], [\"Ship carrying 750 tons of fuel sinks off Tunisia's southeast coast \\n\\n#environment #ecosystem #ClimateChange… https://t.co/j3YLDdQxvp\", 1515710449253244930], ['We still need to hammer out some kinks with smart devices and climate change. 🔨\\n\\n#SmartHomes #SmartDevices… https://t.co/eBQJL7oHAf', 1515710423928123404], ['@QF @HBKU I think a big part as to why #Qatar is so set on creating a #sustainable future is really because of thei… https://t.co/xFu6zUEs0t', 1515710172164984835], ['Vehicle emissions get all the attention, but buildings will play an even larger role in the fight against… https://t.co/UmNpforYb6', 1515708170865459204], ['IMF board approves new trust to help members deal with climate change, pandemics\\nhttps://t.co/RwtX9873IV\\n#IMF… https://t.co/9qH2SA7Qt8', 1515707660108288001], ['@marckhonman Congratulations! This was the #ClimateChange tweet with the most retweets on April 15, 2022.… https://t.co/A5GqqLMnui', 1515707258398777346], ['3 Questions to Ask After the New IPCC Climate Report - Ocean Conservancy \\nhttps://t.co/ORLTWzWWyF \\n#IPCCReport,… https://t.co/Ln4gxVkfM4', 1515706998385483776], ['Living on Earth: Climate Risk Disclosure Mandate \\nhttps://t.co/PHt9nPMjNJ \\n#PublicCompanies, #FinancialRisk,… https://t.co/ZYAob3D3Io', 1515706994627383301], ['I don’t know who needs to hear this but if your #EarthDay2022 content does NOT talk about equitable rapid large sca… https://t.co/HbqIU55CBB', 1515706499489837057], [\"Check out @acespace's new campaign on climate change and mental health!\\n\\n#ClimateChange #SciComm \\nhttps://t.co/9t65ds5sPV\", 1515706400592252933], ['Why global warming is more beneficial than #Greta wants you to believe\\n\\nhttps://t.co/AqTl0bIcO4\\n\\n#globalwarming… https://t.co/KYcCw6XNvW', 1515706348012556294], ['#Surat #SmartCity #SuratMunicipalCorporation  \\n#Climatechange \\n\\nSurat needs to prepare for coming climate change ef… https://t.co/iJkgldYoxx', 1515706052469215238], ['@IngersolRobert @Kenneth72712993 @jimdtweet @hughjarse5 @oakden_wolf @BubbasRanch @Michael_D_Crow @HsuRina1… https://t.co/HV65EdP3ju', 1515705707529740290], ['@CreativeScty We can use a #3D printer to solve housing #problem\\nWe will find out details in the #online #forum \"… https://t.co/14LsPWge7v', 1515705211792379905], ['Climate change: Key UN finding widely misinterpreted \\u2066@BBCWorld\\u2069 \\u2066@BorisJohnson\\u2069 #climatechange https://t.co/yz2xfwpuZh', 1515705132415078408], ['@IngersolRobert @Kenneth72712993 @jimdtweet @hughjarse5 @oakden_wolf @BubbasRanch @Michael_D_Crow @HsuRina1… https://t.co/6eikUAEHXJ', 1515704986314944519], ['#Greenwashing  #ClimateStrike   #ExtinctionRebellion #ClimateCrisis #ClimateAction #GlobalWarming #FridaysForFuture… https://t.co/gPxkzgggRL', 1515704747294138378], ['Everyone of these companies are being sued by the cities in this photo Notice the @GOP red states that are affected… https://t.co/atonDIPsqn', 1515704731439669256], ['\"Climate change is no longer some far-off problem; it is happening here; it is happening now.\"\\n#climatechange… https://t.co/c9ejx7AbEd', 1515704272532303872], [\"@PierrePoilievre Literal tenant here. He promises a new era to/for the underclass. He's against carbon pricing [… https://t.co/BSlLxjM3Oc\", 1515704154202771463], ['World Heritage and Tourism in a Changing Climate, a substantial number of #WorldHeritage sites in the Arab World ha… https://t.co/8YqoQlJgAc', 1515703846525415437], ['Grateful our vulnerable #Indigenous communities will have an avenue to combat the devastating effects of… https://t.co/MItMBXvph7', 1515703304566751238], ['Doug Ford rushes to start Bradford Bypass ahead of June election without costing or proper studies\\n\\n#Environment… https://t.co/I1A5NVktMW', 1515703125830774790], ['@TwoThirdsGoat is a mood today. Take a listen.\\nRemember, Mountaintop Removal isn’t over.\\n#StopMTR #cleanwater… https://t.co/suOodB2dmn', 1515703110819266565], [\"'No one's married to #coal': How Forrest is taking on the world to save the climate: Sydney Morning Herald… https://t.co/bWo9uuP2xT\", 1515703024357986314], ['Goodyear to develop a domestic source of natural rubber from a species of dandelion. https://t.co/O4XE30wHAU… https://t.co/ifUG4QtFM3', 1515702906078601216], [\"Fraud, climate change and 'pig butchering' #CryptoCurrency #climatechange via https://t.co/S8eGVDnMF7 https://t.co/9aY5N4WKnN\", 1515702231714217994], ['Mispricing underscores the physical effect of climate change. Besides worrying about pricing, the leaders are burde… https://t.co/XbHSxDqLjd', 1515702166656516097], ['In this time of #ClimateCrisis when India is one of the most vulnerable nations to impacts of global warming… https://t.co/T8dBlRqLbL', 1515702035366440971], ['Volunteer with us for #CleanDelhi #SwachhBharat #MyCleanIndia\\n\\nVisit https://t.co/XK3ZReQKWN\\n\\n#WeMeanToClean… https://t.co/bMGUHd4mNI', 1515701453125558278], ['@TwoThirdsGoat is a mood today.\\nHave a listen.\\nRemember, Mountaintop Removal isn’t over. \\n#stopMTR… https://t.co/Se3fnHAGKY', 1515701302097063938], ['Nearly 13 million lives are lost every year worldwide due to environmental causes that are avoidable.… https://t.co/VKIcghOmmz', 1515701093472292865], ['@DougAlder Bruh you got #ClimateChange on your Bio you have no room to say anything when it comes to real-world pro… https://t.co/YAo508Q3cQ', 1515701039693021184], ['#EarthDay is celebrated every year on 22 April. 🌎 \\n\\nWith #climatechange being a major focus for us in the… https://t.co/D69QIPAt1f', 1515700602134798340], ['12 practical ways to urgently reduce car use in cities by @KA_Nicholas and Paula Kuss. #ClimateAction… https://t.co/LFnA7615UV', 1515700154631868419], ['#Surat #SmartCity #SuratMunicipalCorporation  \\n#Climatechange \\n\\nSurat needs to prepare for coming climate change ef… https://t.co/719HxiIPFC', 1515700038546206721], ['2.5°C average increase in temperature since 1975 (approx.)\\n\\n#ClimateData from #SatuMare, #Romania. Follow me for da… https://t.co/sQNKXPPO0f', 1515699854571364364], ['#ICYMI: #Solar Protocol, a system of #solarpowered servers, is an opportunity for artists to foreground… https://t.co/THszVv4u7O', 1515699615147995137], ['India must step up efforts to reduce and adapt to climate change, while continuing to push rich countries to do the… https://t.co/vBNGRlVJpq', 1515699470717296643], ['@_GlobalCrisis_ Scary. We need to unite and build Creative Society to survive in an era of climate catastrophe… https://t.co/9cIFfTGyp5', 1515699426228121606], ['Think Piece -  It’s after the end of the world, don’t you know that yet? —Sun Ra, 1970\\n\\n#climatechange #historic… https://t.co/WKcq1z5nlI', 1515699398348611587], ['As @NameisNani participated in the #GreenIndiaChallenge we\\'d like to thank him by presenting the \"Vanamali Badge of… https://t.co/QpdGZADFcx', 1515699318241775619], ['🌍Climate-induced migration is a risk multiplier for modern slavery. The more people that migrate due to… https://t.co/GV1LSeF64e', 1515699101706375169], ['In @Danone we want to make operate our business in the most responsible way possible, and thus committed to preserv… https://t.co/OtyfOBkdR5', 1515698657777295362], ['What Books Should You Have In Your Survival Library #books https://t.co/nyHTPVdQKr via @SlideShare #library… https://t.co/nFsg39g1yx', 1515697552699633669], ['#ClimateChange is the change from a pacefull planet to a hell mess 🔥🔥\\nWe don’t understand the size of change which… https://t.co/HHvYBw61ry', 1515697490078670850], ['#ptpa #ctto #naturenow #climatechange \\n\\n\"Everything counts, what you do matters for natural climate solutions.\"\\n\\nWa… https://t.co/qRCY2ZpRSQ', 1515696690640023555], ['Recent climate &amp; temperature \"surprises\" in Antarctica were predicted by this 2015 article by Paul Mayewski et al.… https://t.co/IAAuMbblnO', 1515695213045497857], ['#nature #environment #climatechange #Save Water #TeamGREEN https://t.co/Htntvp4IUJ', 1515695097387810816], ['How are US special interests undermining climate action? | TV Shows #ClimateAction #Green #EcoFriendly… https://t.co/FNxpLtxZoI', 1515695088386514945], ['It is surprising that US govt wants to be the chief supplier of gas to Europe yet they keep talking about… https://t.co/Vfih6qTNas', 1515694119112392705], ['@simonahac @timothycjames Tim, \\n\\nAre there too many #Independent women? Where is the #LNP divide &amp; conquer?\\n\\n&amp; The… https://t.co/3JDyxZyrnB', 1515693889004392452], ['Setembre dry and hot\\n#ClimateChange is here https://t.co/IarSQsWDko #GlobalWarming #ClimateAction #ClimateCrisis \\nG… https://t.co/Ddpwlcqwe4', 1515693575257923596], ['#EarthMonth Join us and help us deliver our #climateaction letters signed by constituents to @SenatorSinema on Frid… https://t.co/97begv9qaM', 1515693562775711745], ['Suing over #CLIMATE change: Taking fossil fuel companies to court https://t.co/7jinT8ijh0  #GlobalWarming #climatechange', 1515693508589465602], ['Suing over #CLIMATE change: Taking fossil fuel companies to court https://t.co/IrEq4HoXGf #GPWX #GlobalWarming #climatechange', 1515693431301054469], ['Join us on April 21st for a discussion on Climate Finance &amp; the Commonwealth: Challenges &amp; Options with the Ramphal… https://t.co/60HtCiqKKw', 1515691834026209287], ['In a recent @SOActuaries podcast, @peter_sousounis, VP &amp; Director of Climate Change Research, @Verisk, discussed th… https://t.co/DpWpe5U9S5', 1515691811817332740], [\"We can stop the worst of #ClimateChange but we must take #ClimateAction now! We can't continue to ignore the issue… https://t.co/ZeKcL83fBU\", 1515691801591513089], ['Oceans drive #ClimateChange\\nWater is the mineral that stores the most heat and travels around the world equalizing… https://t.co/qibE3b5ptp', 1515691304524656643], ['@Earthjustice Yes! To stop #climatechange…\\n1—Maximum #energyefficiency, all sectors, saving ~1/2 of current energy.… https://t.co/Q9hfhz75Cb', 1515691043693350919], ['Sun Sets on Mexico’s Paradise Beaches as Climate Crisis Hits Home https://t.co/RJPoYOk49a #PuertoVallarta… https://t.co/zkMKFZtAm2', 1515691029919322117], [\"[NOW] Learn about #HasdeoArand through 6 'Cs' in this #twitterspace \\n\\n#Constitution #Conservation #ClimateChange… https://t.co/rd1ZYeFhdM\", 1515690769201307648], [\"[NOW] Learn about #HasdeoArand through 6 'Cs' in this #twitterspace \\n\\n#Constitution #Conservation #ClimateChange… https://t.co/IksUKTInys\", 1515690718613880832], ['This 20 seconds, is all you need as INDISPUTABLE EVIDENCE that voting for Pauline Hanson makes you an idiot.… https://t.co/Sh0VbdvCPv', 1515690670417096710], [\"[NOW] Learn about #HasdeoArand through 6 'Cs' in this #twitterspace \\n\\n#Constitution #Conservation #ClimateChange… https://t.co/z3q7hIYSW7\", 1515690647751053313], [\"[NOW] Learn about #HasdeoArand through 6 'Cs' in this #twitterspace \\n\\n#Constitution #Conservation #ClimateChange… https://t.co/VmUH1a23Xd\", 1515690590289031169], ['The #Paris #climate deal never was realistic target 🌡🌍\\nIt was just to save appearances https://t.co/SGt9gu2ivR… https://t.co/c9eXjgRYDN', 1515690527424974851], ['\"Manchin, who profits from his family’s West Virginia coal company, received more campaign donations from the oil,… https://t.co/iOgjO2tZWs', 1515690517845221376], [\"High Gas Prices WON'T Stop #ClimateChange \\n\\nhttps://t.co/8ixcGcgotY\\n\\n@Trumpgot2go @princepapa1 @valeriesmith344… https://t.co/BGmtv5VDwv\", 1515690265234878467], ['#CLIMATE change lawsuits: Taking fossil fuel firms to court https://t.co/pw785tjnIc  #GlobalWarming #climatechange', 1515689765382799370], ['#CLIMATE change lawsuits: Taking fossil fuel firms to court https://t.co/nuIOMOUwgB #GPWX #GlobalWarming #climatechange', 1515689689931522051], ['These five women are photographing 📷 the effects of #ClimateChange around the world.  \\n\\nCheck out their projects vi… https://t.co/1ppFoMp1W2', 1515689035842396165]]\n"
     ]
    }
   ],
   "source": [
    "print(tweets_list)"
   ]
  },
  {
   "cell_type": "code",
   "execution_count": 9,
   "id": "d0b00eff",
   "metadata": {},
   "outputs": [],
   "source": [
    "#Creating Seperate List with Headers for storing tweets in a JSON File\n",
    "\n",
    "tweets_list_for_json = [\"message\", \"tweet_id\"]"
   ]
  },
  {
   "cell_type": "code",
   "execution_count": 10,
   "id": "27c6a26a",
   "metadata": {},
   "outputs": [],
   "source": [
    "#Adding the tweets to the JSON Tweet List\n",
    "\n",
    "tweets_list_for_json.extend(tweets_list)"
   ]
  },
  {
   "cell_type": "code",
   "execution_count": 11,
   "id": "5b681d09",
   "metadata": {
    "tags": []
   },
   "outputs": [
    {
     "name": "stdout",
     "output_type": "stream",
     "text": [
      "['message', 'tweet_id', ['Not a great fan of this YT channel, but here they are 100% right.\\nIt is more than fair, that the opulent \"Global No… https://t.co/vzntQhsfZA', 1515718912146608137], [\"I'm going to need the Bahamian goverment and my fellow Bahamians to hear this. #globalwarming #climatechange\\nhttps://t.co/AguWv6ec2j\", 1515718660714807298], ['Understand how #data can help with reducing the impacts of extreme heat, flooding and other consequences of climate… https://t.co/waiuNiQ28v', 1515718488056246280], ['4 strategies for #Energy and #ClimateChange breakthroughs at the UN summits. (Fast Company) #Environment… https://t.co/yBQWuDKzsy', 1515718476962304003], ['The peppers at our farms are healthy, sweet and spicy. \\n\\n#MitiNiDawa #StoryYaMazingira #FaceTheClimateEmergency… https://t.co/SpMUs8ht2t', 1515717982923771912], ['#plasticpollution #climatechange #deforestation #ecokids #pollution #solutions\\n\\nTell #children about the #zerowaste… https://t.co/wToDThblRg', 1515717973616443394], [\"Did you know that your internet usage has an environmental impact?\\n\\nLet's take a look at the things consumers can d… https://t.co/nJwNuJjIDK\", 1515717218578800646], ['#Saguaro, Free of the #Earth | #SaguaroCactus #SonoraDesert #DesertLife #Community #AjoAZ #IndigenousPeople… https://t.co/91b2dFm52X', 1515717021417328644], [\"Sunday National ran an impressive list of Scotland's top carbon emitters - Ineos at Grangemouth, followed by cariou… https://t.co/nQp41k06e5\", 1515716950772658181], ['Happy ❄️ Snowy Easter from #iowa This is a first! #globalwarmimg #climatechange #winterspring #championship7v7… https://t.co/DZ8DqVUsRE', 1515716090797727748], ['What time is it?\\n\\n#geological #time #anthropocene #humancentric #climatechange https://t.co/3Xfbxy1BYY', 1515715871683063821], ['#ClimateChange: \\'We\\'re making wine in Norway\\' - \"...plants do need a little extra encouragement; they\\'re growing at… https://t.co/KdxC2wcDLJ', 1515715812824436740], ['As @riturv participated in the #GreenIndiaChallenge we\\'d like to thank her by presenting the \"Vanamali Badge of Hon… https://t.co/yjRVXAxovK', 1515715733128646662], ['How Many Americans Believe In #ClimateChange? #persuade #climatecrisis #climate #climateemergency https://t.co/TWxvoatfhy', 1515715094180683779], ['Can we finally agree that the next #Economy will be based on #ClimateChange  https://t.co/P7X4Y2aDEs', 1515714945958170626], ['Utilities Plan Huge Electric Grid Upgrades, Adding to Power Bills #fintwit #dteenergyco #powerbills #climatechange… https://t.co/VPn7LWD95a', 1515714807005159426], ['How Many Americans Believe In #ClimateChange? #persuade #climatecrisis #climate #climateemergency… https://t.co/cIcnrZGvpv', 1515714503190749185], ['#Germany\\'s \"Easter Package\" shows there is “a great will to advance wind energy quickly,” said @BWEeV\\npresident Her… https://t.co/ep1h8bhjtv', 1515714451269468161], ['The #FarmtoFork strategy aims to accelerate transition to a #sustainable #foodsystem that have a positive… https://t.co/CENo2mmrl4', 1515713572533374978], ['Your worried about #climatechange with the #rape &amp; #murder of civilians occurring in the #Ukraine. #Stop buying mad… https://t.co/T9nrxhmUN5', 1515712466751209476], ['While the ongoing human tragedy in Ukraine is devastating, we must not forget the damage done to the environment by… https://t.co/zN7EQasivU', 1515712437080764418], ['Ford Mustang Mach-E Prices Rise Significantly Due to Increased Material Costs https://t.co/k9PnEfr8e6… https://t.co/GXkxudFRYF', 1515712024684154882], [\"Fraud, climate change and 'pig butchering' #CryptoCurrency #climatechange via https://t.co/9UiYqby29m https://t.co/mnrx3AUA5R\", 1515711036330020879], ['#ClimateChange #Fascism #Automation #Inequality means #Resistance, #Steamdrills is #Inspiring… https://t.co/xmlFPK98Vg', 1515710964326440967], ['PCs pushing electric vehicle investments ahead of June election; too little too late transportation experts say… https://t.co/0v0DSWicga', 1515710927097630722], ['Tesla Model 3: Negatives After 4 Years Of Ownership https://t.co/R8CkBcBHbm #ElectricVehicles #Tesla #EV… https://t.co/43tMw8453l', 1515710761120718857], ['Highest temperatures today\\n\\n45  Pakistan\\n44  Libya India Chad\\n43  Mali\\n42 Egypt \\n41  Australia Brazil Senegal Oman… https://t.co/M0N5ld6Exz', 1515710550247985156], [\"Ship carrying 750 tons of fuel sinks off Tunisia's southeast coast \\n\\n#environment #ecosystem #ClimateChange… https://t.co/j3YLDdQxvp\", 1515710449253244930], ['We still need to hammer out some kinks with smart devices and climate change. 🔨\\n\\n#SmartHomes #SmartDevices… https://t.co/eBQJL7oHAf', 1515710423928123404], ['@QF @HBKU I think a big part as to why #Qatar is so set on creating a #sustainable future is really because of thei… https://t.co/xFu6zUEs0t', 1515710172164984835], ['Vehicle emissions get all the attention, but buildings will play an even larger role in the fight against… https://t.co/UmNpforYb6', 1515708170865459204], ['IMF board approves new trust to help members deal with climate change, pandemics\\nhttps://t.co/RwtX9873IV\\n#IMF… https://t.co/9qH2SA7Qt8', 1515707660108288001], ['@marckhonman Congratulations! This was the #ClimateChange tweet with the most retweets on April 15, 2022.… https://t.co/A5GqqLMnui', 1515707258398777346], ['3 Questions to Ask After the New IPCC Climate Report - Ocean Conservancy \\nhttps://t.co/ORLTWzWWyF \\n#IPCCReport,… https://t.co/Ln4gxVkfM4', 1515706998385483776], ['Living on Earth: Climate Risk Disclosure Mandate \\nhttps://t.co/PHt9nPMjNJ \\n#PublicCompanies, #FinancialRisk,… https://t.co/ZYAob3D3Io', 1515706994627383301], ['I don’t know who needs to hear this but if your #EarthDay2022 content does NOT talk about equitable rapid large sca… https://t.co/HbqIU55CBB', 1515706499489837057], [\"Check out @acespace's new campaign on climate change and mental health!\\n\\n#ClimateChange #SciComm \\nhttps://t.co/9t65ds5sPV\", 1515706400592252933], ['Why global warming is more beneficial than #Greta wants you to believe\\n\\nhttps://t.co/AqTl0bIcO4\\n\\n#globalwarming… https://t.co/KYcCw6XNvW', 1515706348012556294], ['#Surat #SmartCity #SuratMunicipalCorporation  \\n#Climatechange \\n\\nSurat needs to prepare for coming climate change ef… https://t.co/iJkgldYoxx', 1515706052469215238], ['@IngersolRobert @Kenneth72712993 @jimdtweet @hughjarse5 @oakden_wolf @BubbasRanch @Michael_D_Crow @HsuRina1… https://t.co/HV65EdP3ju', 1515705707529740290], ['@CreativeScty We can use a #3D printer to solve housing #problem\\nWe will find out details in the #online #forum \"… https://t.co/14LsPWge7v', 1515705211792379905], ['Climate change: Key UN finding widely misinterpreted \\u2066@BBCWorld\\u2069 \\u2066@BorisJohnson\\u2069 #climatechange https://t.co/yz2xfwpuZh', 1515705132415078408], ['@IngersolRobert @Kenneth72712993 @jimdtweet @hughjarse5 @oakden_wolf @BubbasRanch @Michael_D_Crow @HsuRina1… https://t.co/6eikUAEHXJ', 1515704986314944519], ['#Greenwashing  #ClimateStrike   #ExtinctionRebellion #ClimateCrisis #ClimateAction #GlobalWarming #FridaysForFuture… https://t.co/gPxkzgggRL', 1515704747294138378], ['Everyone of these companies are being sued by the cities in this photo Notice the @GOP red states that are affected… https://t.co/atonDIPsqn', 1515704731439669256], ['\"Climate change is no longer some far-off problem; it is happening here; it is happening now.\"\\n#climatechange… https://t.co/c9ejx7AbEd', 1515704272532303872], [\"@PierrePoilievre Literal tenant here. He promises a new era to/for the underclass. He's against carbon pricing [… https://t.co/BSlLxjM3Oc\", 1515704154202771463], ['World Heritage and Tourism in a Changing Climate, a substantial number of #WorldHeritage sites in the Arab World ha… https://t.co/8YqoQlJgAc', 1515703846525415437], ['Grateful our vulnerable #Indigenous communities will have an avenue to combat the devastating effects of… https://t.co/MItMBXvph7', 1515703304566751238], ['Doug Ford rushes to start Bradford Bypass ahead of June election without costing or proper studies\\n\\n#Environment… https://t.co/I1A5NVktMW', 1515703125830774790], ['@TwoThirdsGoat is a mood today. Take a listen.\\nRemember, Mountaintop Removal isn’t over.\\n#StopMTR #cleanwater… https://t.co/suOodB2dmn', 1515703110819266565], [\"'No one's married to #coal': How Forrest is taking on the world to save the climate: Sydney Morning Herald… https://t.co/bWo9uuP2xT\", 1515703024357986314], ['Goodyear to develop a domestic source of natural rubber from a species of dandelion. https://t.co/O4XE30wHAU… https://t.co/ifUG4QtFM3', 1515702906078601216], [\"Fraud, climate change and 'pig butchering' #CryptoCurrency #climatechange via https://t.co/S8eGVDnMF7 https://t.co/9aY5N4WKnN\", 1515702231714217994], ['Mispricing underscores the physical effect of climate change. Besides worrying about pricing, the leaders are burde… https://t.co/XbHSxDqLjd', 1515702166656516097], ['In this time of #ClimateCrisis when India is one of the most vulnerable nations to impacts of global warming… https://t.co/T8dBlRqLbL', 1515702035366440971], ['Volunteer with us for #CleanDelhi #SwachhBharat #MyCleanIndia\\n\\nVisit https://t.co/XK3ZReQKWN\\n\\n#WeMeanToClean… https://t.co/bMGUHd4mNI', 1515701453125558278], ['@TwoThirdsGoat is a mood today.\\nHave a listen.\\nRemember, Mountaintop Removal isn’t over. \\n#stopMTR… https://t.co/Se3fnHAGKY', 1515701302097063938], ['Nearly 13 million lives are lost every year worldwide due to environmental causes that are avoidable.… https://t.co/VKIcghOmmz', 1515701093472292865], ['@DougAlder Bruh you got #ClimateChange on your Bio you have no room to say anything when it comes to real-world pro… https://t.co/YAo508Q3cQ', 1515701039693021184], ['#EarthDay is celebrated every year on 22 April. 🌎 \\n\\nWith #climatechange being a major focus for us in the… https://t.co/D69QIPAt1f', 1515700602134798340], ['12 practical ways to urgently reduce car use in cities by @KA_Nicholas and Paula Kuss. #ClimateAction… https://t.co/LFnA7615UV', 1515700154631868419], ['#Surat #SmartCity #SuratMunicipalCorporation  \\n#Climatechange \\n\\nSurat needs to prepare for coming climate change ef… https://t.co/719HxiIPFC', 1515700038546206721], ['2.5°C average increase in temperature since 1975 (approx.)\\n\\n#ClimateData from #SatuMare, #Romania. Follow me for da… https://t.co/sQNKXPPO0f', 1515699854571364364], ['#ICYMI: #Solar Protocol, a system of #solarpowered servers, is an opportunity for artists to foreground… https://t.co/THszVv4u7O', 1515699615147995137], ['India must step up efforts to reduce and adapt to climate change, while continuing to push rich countries to do the… https://t.co/vBNGRlVJpq', 1515699470717296643], ['@_GlobalCrisis_ Scary. We need to unite and build Creative Society to survive in an era of climate catastrophe… https://t.co/9cIFfTGyp5', 1515699426228121606], ['Think Piece -  It’s after the end of the world, don’t you know that yet? —Sun Ra, 1970\\n\\n#climatechange #historic… https://t.co/WKcq1z5nlI', 1515699398348611587], ['As @NameisNani participated in the #GreenIndiaChallenge we\\'d like to thank him by presenting the \"Vanamali Badge of… https://t.co/QpdGZADFcx', 1515699318241775619], ['🌍Climate-induced migration is a risk multiplier for modern slavery. The more people that migrate due to… https://t.co/GV1LSeF64e', 1515699101706375169], ['In @Danone we want to make operate our business in the most responsible way possible, and thus committed to preserv… https://t.co/OtyfOBkdR5', 1515698657777295362], ['What Books Should You Have In Your Survival Library #books https://t.co/nyHTPVdQKr via @SlideShare #library… https://t.co/nFsg39g1yx', 1515697552699633669], ['#ClimateChange is the change from a pacefull planet to a hell mess 🔥🔥\\nWe don’t understand the size of change which… https://t.co/HHvYBw61ry', 1515697490078670850], ['#ptpa #ctto #naturenow #climatechange \\n\\n\"Everything counts, what you do matters for natural climate solutions.\"\\n\\nWa… https://t.co/qRCY2ZpRSQ', 1515696690640023555], ['Recent climate &amp; temperature \"surprises\" in Antarctica were predicted by this 2015 article by Paul Mayewski et al.… https://t.co/IAAuMbblnO', 1515695213045497857], ['#nature #environment #climatechange #Save Water #TeamGREEN https://t.co/Htntvp4IUJ', 1515695097387810816], ['How are US special interests undermining climate action? | TV Shows #ClimateAction #Green #EcoFriendly… https://t.co/FNxpLtxZoI', 1515695088386514945], ['It is surprising that US govt wants to be the chief supplier of gas to Europe yet they keep talking about… https://t.co/Vfih6qTNas', 1515694119112392705], ['@simonahac @timothycjames Tim, \\n\\nAre there too many #Independent women? Where is the #LNP divide &amp; conquer?\\n\\n&amp; The… https://t.co/3JDyxZyrnB', 1515693889004392452], ['Setembre dry and hot\\n#ClimateChange is here https://t.co/IarSQsWDko #GlobalWarming #ClimateAction #ClimateCrisis \\nG… https://t.co/Ddpwlcqwe4', 1515693575257923596], ['#EarthMonth Join us and help us deliver our #climateaction letters signed by constituents to @SenatorSinema on Frid… https://t.co/97begv9qaM', 1515693562775711745], ['Suing over #CLIMATE change: Taking fossil fuel companies to court https://t.co/7jinT8ijh0  #GlobalWarming #climatechange', 1515693508589465602], ['Suing over #CLIMATE change: Taking fossil fuel companies to court https://t.co/IrEq4HoXGf #GPWX #GlobalWarming #climatechange', 1515693431301054469], ['Join us on April 21st for a discussion on Climate Finance &amp; the Commonwealth: Challenges &amp; Options with the Ramphal… https://t.co/60HtCiqKKw', 1515691834026209287], ['In a recent @SOActuaries podcast, @peter_sousounis, VP &amp; Director of Climate Change Research, @Verisk, discussed th… https://t.co/DpWpe5U9S5', 1515691811817332740], [\"We can stop the worst of #ClimateChange but we must take #ClimateAction now! We can't continue to ignore the issue… https://t.co/ZeKcL83fBU\", 1515691801591513089], ['Oceans drive #ClimateChange\\nWater is the mineral that stores the most heat and travels around the world equalizing… https://t.co/qibE3b5ptp', 1515691304524656643], ['@Earthjustice Yes! To stop #climatechange…\\n1—Maximum #energyefficiency, all sectors, saving ~1/2 of current energy.… https://t.co/Q9hfhz75Cb', 1515691043693350919], ['Sun Sets on Mexico’s Paradise Beaches as Climate Crisis Hits Home https://t.co/RJPoYOk49a #PuertoVallarta… https://t.co/zkMKFZtAm2', 1515691029919322117], [\"[NOW] Learn about #HasdeoArand through 6 'Cs' in this #twitterspace \\n\\n#Constitution #Conservation #ClimateChange… https://t.co/rd1ZYeFhdM\", 1515690769201307648], [\"[NOW] Learn about #HasdeoArand through 6 'Cs' in this #twitterspace \\n\\n#Constitution #Conservation #ClimateChange… https://t.co/IksUKTInys\", 1515690718613880832], ['This 20 seconds, is all you need as INDISPUTABLE EVIDENCE that voting for Pauline Hanson makes you an idiot.… https://t.co/Sh0VbdvCPv', 1515690670417096710], [\"[NOW] Learn about #HasdeoArand through 6 'Cs' in this #twitterspace \\n\\n#Constitution #Conservation #ClimateChange… https://t.co/z3q7hIYSW7\", 1515690647751053313], [\"[NOW] Learn about #HasdeoArand through 6 'Cs' in this #twitterspace \\n\\n#Constitution #Conservation #ClimateChange… https://t.co/VmUH1a23Xd\", 1515690590289031169], ['The #Paris #climate deal never was realistic target 🌡🌍\\nIt was just to save appearances https://t.co/SGt9gu2ivR… https://t.co/c9eXjgRYDN', 1515690527424974851], ['\"Manchin, who profits from his family’s West Virginia coal company, received more campaign donations from the oil,… https://t.co/iOgjO2tZWs', 1515690517845221376], [\"High Gas Prices WON'T Stop #ClimateChange \\n\\nhttps://t.co/8ixcGcgotY\\n\\n@Trumpgot2go @princepapa1 @valeriesmith344… https://t.co/BGmtv5VDwv\", 1515690265234878467], ['#CLIMATE change lawsuits: Taking fossil fuel firms to court https://t.co/pw785tjnIc  #GlobalWarming #climatechange', 1515689765382799370], ['#CLIMATE change lawsuits: Taking fossil fuel firms to court https://t.co/nuIOMOUwgB #GPWX #GlobalWarming #climatechange', 1515689689931522051], ['These five women are photographing 📷 the effects of #ClimateChange around the world.  \\n\\nCheck out their projects vi… https://t.co/1ppFoMp1W2', 1515689035842396165]]\n"
     ]
    }
   ],
   "source": [
    "print(tweets_list_for_json)"
   ]
  },
  {
   "cell_type": "code",
   "execution_count": 12,
   "id": "0e00f1a4",
   "metadata": {},
   "outputs": [],
   "source": [
    "import json"
   ]
  },
  {
   "cell_type": "code",
   "execution_count": 13,
   "id": "f6744276",
   "metadata": {},
   "outputs": [],
   "source": [
    "#Exporting the Tweets scrapped to JSON Format\n",
    "\n",
    "json_tweets=json.dumps(tweets_list_for_json)"
   ]
  },
  {
   "cell_type": "code",
   "execution_count": 14,
   "id": "2fe6b7bf",
   "metadata": {
    "scrolled": true
   },
   "outputs": [
    {
     "name": "stdout",
     "output_type": "stream",
     "text": [
      "[\"message\", \"tweet_id\", [\"Not a great fan of this YT channel, but here they are 100% right.\\nIt is more than fair, that the opulent \\\"Global No\\u2026 https://t.co/vzntQhsfZA\", 1515718912146608137], [\"I'm going to need the Bahamian goverment and my fellow Bahamians to hear this. #globalwarming #climatechange\\nhttps://t.co/AguWv6ec2j\", 1515718660714807298], [\"Understand how #data can help with reducing the impacts of extreme heat, flooding and other consequences of climate\\u2026 https://t.co/waiuNiQ28v\", 1515718488056246280], [\"4 strategies for #Energy and #ClimateChange breakthroughs at the UN summits. (Fast Company) #Environment\\u2026 https://t.co/yBQWuDKzsy\", 1515718476962304003], [\"The peppers at our farms are healthy, sweet and spicy. \\n\\n#MitiNiDawa #StoryYaMazingira #FaceTheClimateEmergency\\u2026 https://t.co/SpMUs8ht2t\", 1515717982923771912], [\"#plasticpollution #climatechange #deforestation #ecokids #pollution #solutions\\n\\nTell #children about the #zerowaste\\u2026 https://t.co/wToDThblRg\", 1515717973616443394], [\"Did you know that your internet usage has an environmental impact?\\n\\nLet's take a look at the things consumers can d\\u2026 https://t.co/nJwNuJjIDK\", 1515717218578800646], [\"#Saguaro, Free of the #Earth | #SaguaroCactus #SonoraDesert #DesertLife #Community #AjoAZ #IndigenousPeople\\u2026 https://t.co/91b2dFm52X\", 1515717021417328644], [\"Sunday National ran an impressive list of Scotland's top carbon emitters - Ineos at Grangemouth, followed by cariou\\u2026 https://t.co/nQp41k06e5\", 1515716950772658181], [\"Happy \\u2744\\ufe0f Snowy Easter from #iowa This is a first! #globalwarmimg #climatechange #winterspring #championship7v7\\u2026 https://t.co/DZ8DqVUsRE\", 1515716090797727748], [\"What time is it?\\n\\n#geological #time #anthropocene #humancentric #climatechange https://t.co/3Xfbxy1BYY\", 1515715871683063821], [\"#ClimateChange: 'We're making wine in Norway' - \\\"...plants do need a little extra encouragement; they're growing at\\u2026 https://t.co/KdxC2wcDLJ\", 1515715812824436740], [\"As @riturv participated in the #GreenIndiaChallenge we'd like to thank her by presenting the \\\"Vanamali Badge of Hon\\u2026 https://t.co/yjRVXAxovK\", 1515715733128646662], [\"How Many Americans Believe In #ClimateChange? #persuade #climatecrisis #climate #climateemergency https://t.co/TWxvoatfhy\", 1515715094180683779], [\"Can we finally agree that the next #Economy will be based on #ClimateChange  https://t.co/P7X4Y2aDEs\", 1515714945958170626], [\"Utilities Plan Huge Electric Grid Upgrades, Adding to Power Bills #fintwit #dteenergyco #powerbills #climatechange\\u2026 https://t.co/VPn7LWD95a\", 1515714807005159426], [\"How Many Americans Believe In #ClimateChange? #persuade #climatecrisis #climate #climateemergency\\u2026 https://t.co/cIcnrZGvpv\", 1515714503190749185], [\"#Germany's \\\"Easter Package\\\" shows there is \\u201ca great will to advance wind energy quickly,\\u201d said @BWEeV\\npresident Her\\u2026 https://t.co/ep1h8bhjtv\", 1515714451269468161], [\"The #FarmtoFork strategy aims to accelerate transition to a #sustainable #foodsystem that have a positive\\u2026 https://t.co/CENo2mmrl4\", 1515713572533374978], [\"Your worried about #climatechange with the #rape &amp; #murder of civilians occurring in the #Ukraine. #Stop buying mad\\u2026 https://t.co/T9nrxhmUN5\", 1515712466751209476], [\"While the ongoing human tragedy in Ukraine is devastating, we must not forget the damage done to the environment by\\u2026 https://t.co/zN7EQasivU\", 1515712437080764418], [\"Ford Mustang Mach-E Prices Rise Significantly Due to Increased Material Costs https://t.co/k9PnEfr8e6\\u2026 https://t.co/GXkxudFRYF\", 1515712024684154882], [\"Fraud, climate change and 'pig butchering' #CryptoCurrency #climatechange via https://t.co/9UiYqby29m https://t.co/mnrx3AUA5R\", 1515711036330020879], [\"#ClimateChange #Fascism #Automation #Inequality means #Resistance, #Steamdrills is #Inspiring\\u2026 https://t.co/xmlFPK98Vg\", 1515710964326440967], [\"PCs pushing electric vehicle investments ahead of June election; too little too late transportation experts say\\u2026 https://t.co/0v0DSWicga\", 1515710927097630722], [\"Tesla Model 3: Negatives After 4 Years Of Ownership https://t.co/R8CkBcBHbm #ElectricVehicles #Tesla #EV\\u2026 https://t.co/43tMw8453l\", 1515710761120718857], [\"Highest temperatures today\\n\\n45  Pakistan\\n44  Libya India Chad\\n43  Mali\\n42 Egypt \\n41  Australia Brazil Senegal Oman\\u2026 https://t.co/M0N5ld6Exz\", 1515710550247985156], [\"Ship carrying 750 tons of fuel sinks off Tunisia's southeast coast \\n\\n#environment #ecosystem #ClimateChange\\u2026 https://t.co/j3YLDdQxvp\", 1515710449253244930], [\"We still need to hammer out some kinks with smart devices and climate change. \\ud83d\\udd28\\n\\n#SmartHomes #SmartDevices\\u2026 https://t.co/eBQJL7oHAf\", 1515710423928123404], [\"@QF @HBKU I think a big part as to why #Qatar is so set on creating a #sustainable future is really because of thei\\u2026 https://t.co/xFu6zUEs0t\", 1515710172164984835], [\"Vehicle emissions get all the attention, but buildings will play an even larger role in the fight against\\u2026 https://t.co/UmNpforYb6\", 1515708170865459204], [\"IMF board approves new trust to help members deal with climate change, pandemics\\nhttps://t.co/RwtX9873IV\\n#IMF\\u2026 https://t.co/9qH2SA7Qt8\", 1515707660108288001], [\"@marckhonman Congratulations! This was the #ClimateChange tweet with the most retweets on April 15, 2022.\\u2026 https://t.co/A5GqqLMnui\", 1515707258398777346], [\"3 Questions to Ask After the New IPCC Climate Report - Ocean Conservancy \\nhttps://t.co/ORLTWzWWyF \\n#IPCCReport,\\u2026 https://t.co/Ln4gxVkfM4\", 1515706998385483776], [\"Living on Earth: Climate Risk Disclosure Mandate \\nhttps://t.co/PHt9nPMjNJ \\n#PublicCompanies, #FinancialRisk,\\u2026 https://t.co/ZYAob3D3Io\", 1515706994627383301], [\"I don\\u2019t know who needs to hear this but if your #EarthDay2022 content does NOT talk about equitable rapid large sca\\u2026 https://t.co/HbqIU55CBB\", 1515706499489837057], [\"Check out @acespace's new campaign on climate change and mental health!\\n\\n#ClimateChange #SciComm \\nhttps://t.co/9t65ds5sPV\", 1515706400592252933], [\"Why global warming is more beneficial than #Greta wants you to believe\\n\\nhttps://t.co/AqTl0bIcO4\\n\\n#globalwarming\\u2026 https://t.co/KYcCw6XNvW\", 1515706348012556294], [\"#Surat #SmartCity #SuratMunicipalCorporation  \\n#Climatechange \\n\\nSurat needs to prepare for coming climate change ef\\u2026 https://t.co/iJkgldYoxx\", 1515706052469215238], [\"@IngersolRobert @Kenneth72712993 @jimdtweet @hughjarse5 @oakden_wolf @BubbasRanch @Michael_D_Crow @HsuRina1\\u2026 https://t.co/HV65EdP3ju\", 1515705707529740290], [\"@CreativeScty We can use a #3D printer to solve housing #problem\\nWe will find out details in the #online #forum \\\"\\u2026 https://t.co/14LsPWge7v\", 1515705211792379905], [\"Climate change: Key UN finding widely misinterpreted \\u2066@BBCWorld\\u2069 \\u2066@BorisJohnson\\u2069 #climatechange https://t.co/yz2xfwpuZh\", 1515705132415078408], [\"@IngersolRobert @Kenneth72712993 @jimdtweet @hughjarse5 @oakden_wolf @BubbasRanch @Michael_D_Crow @HsuRina1\\u2026 https://t.co/6eikUAEHXJ\", 1515704986314944519], [\"#Greenwashing  #ClimateStrike   #ExtinctionRebellion #ClimateCrisis #ClimateAction #GlobalWarming #FridaysForFuture\\u2026 https://t.co/gPxkzgggRL\", 1515704747294138378], [\"Everyone of these companies are being sued by the cities in this photo Notice the @GOP red states that are affected\\u2026 https://t.co/atonDIPsqn\", 1515704731439669256], [\"\\\"Climate change is no longer some far-off problem; it is happening here; it is happening now.\\\"\\n#climatechange\\u2026 https://t.co/c9ejx7AbEd\", 1515704272532303872], [\"@PierrePoilievre Literal tenant here. He promises a new era to/for the underclass. He's against carbon pricing [\\u2026 https://t.co/BSlLxjM3Oc\", 1515704154202771463], [\"World Heritage and Tourism in a Changing Climate, a substantial number of #WorldHeritage sites in the Arab World ha\\u2026 https://t.co/8YqoQlJgAc\", 1515703846525415437], [\"Grateful our vulnerable #Indigenous communities will have an avenue to combat the devastating effects of\\u2026 https://t.co/MItMBXvph7\", 1515703304566751238], [\"Doug Ford rushes to start Bradford Bypass ahead of June election without costing or proper studies\\n\\n#Environment\\u2026 https://t.co/I1A5NVktMW\", 1515703125830774790], [\"@TwoThirdsGoat is a mood today. Take a listen.\\nRemember, Mountaintop Removal isn\\u2019t over.\\n#StopMTR #cleanwater\\u2026 https://t.co/suOodB2dmn\", 1515703110819266565], [\"'No one's married to #coal': How Forrest is taking on the world to save the climate: Sydney Morning Herald\\u2026 https://t.co/bWo9uuP2xT\", 1515703024357986314], [\"Goodyear to develop a domestic source of natural rubber from a species of dandelion. https://t.co/O4XE30wHAU\\u2026 https://t.co/ifUG4QtFM3\", 1515702906078601216], [\"Fraud, climate change and 'pig butchering' #CryptoCurrency #climatechange via https://t.co/S8eGVDnMF7 https://t.co/9aY5N4WKnN\", 1515702231714217994], [\"Mispricing underscores the physical effect of climate change. Besides worrying about pricing, the leaders are burde\\u2026 https://t.co/XbHSxDqLjd\", 1515702166656516097], [\"In this time of #ClimateCrisis when India is one of the most vulnerable nations to impacts of global warming\\u2026 https://t.co/T8dBlRqLbL\", 1515702035366440971], [\"Volunteer with us for #CleanDelhi #SwachhBharat #MyCleanIndia\\n\\nVisit https://t.co/XK3ZReQKWN\\n\\n#WeMeanToClean\\u2026 https://t.co/bMGUHd4mNI\", 1515701453125558278], [\"@TwoThirdsGoat is a mood today.\\nHave a listen.\\nRemember, Mountaintop Removal isn\\u2019t over. \\n#stopMTR\\u2026 https://t.co/Se3fnHAGKY\", 1515701302097063938], [\"Nearly 13 million lives are lost every year worldwide due to environmental causes that are avoidable.\\u2026 https://t.co/VKIcghOmmz\", 1515701093472292865], [\"@DougAlder Bruh you got #ClimateChange on your Bio you have no room to say anything when it comes to real-world pro\\u2026 https://t.co/YAo508Q3cQ\", 1515701039693021184], [\"#EarthDay is celebrated every year on 22 April. \\ud83c\\udf0e \\n\\nWith #climatechange being a major focus for us in the\\u2026 https://t.co/D69QIPAt1f\", 1515700602134798340], [\"12 practical ways to urgently reduce car use in cities by @KA_Nicholas and Paula Kuss. #ClimateAction\\u2026 https://t.co/LFnA7615UV\", 1515700154631868419], [\"#Surat #SmartCity #SuratMunicipalCorporation  \\n#Climatechange \\n\\nSurat needs to prepare for coming climate change ef\\u2026 https://t.co/719HxiIPFC\", 1515700038546206721], [\"2.5\\u00b0C average increase in temperature since 1975 (approx.)\\n\\n#ClimateData from #SatuMare, #Romania. Follow me for da\\u2026 https://t.co/sQNKXPPO0f\", 1515699854571364364], [\"#ICYMI: #Solar Protocol, a system of #solarpowered servers, is an opportunity for artists to foreground\\u2026 https://t.co/THszVv4u7O\", 1515699615147995137], [\"India must step up efforts to reduce and adapt to climate change, while continuing to push rich countries to do the\\u2026 https://t.co/vBNGRlVJpq\", 1515699470717296643], [\"@_GlobalCrisis_ Scary. We need to unite and build Creative Society to survive in an era of climate catastrophe\\u2026 https://t.co/9cIFfTGyp5\", 1515699426228121606], [\"Think Piece -  It\\u2019s after the end of the world, don\\u2019t you know that yet? \\u2014Sun Ra, 1970\\n\\n#climatechange #historic\\u2026 https://t.co/WKcq1z5nlI\", 1515699398348611587], [\"As @NameisNani participated in the #GreenIndiaChallenge we'd like to thank him by presenting the \\\"Vanamali Badge of\\u2026 https://t.co/QpdGZADFcx\", 1515699318241775619], [\"\\ud83c\\udf0dClimate-induced migration is a risk multiplier for modern slavery. The more people that migrate due to\\u2026 https://t.co/GV1LSeF64e\", 1515699101706375169], [\"In @Danone we want to make operate our business in the most responsible way possible, and thus committed to preserv\\u2026 https://t.co/OtyfOBkdR5\", 1515698657777295362], [\"What Books Should You Have In Your Survival Library #books https://t.co/nyHTPVdQKr via @SlideShare #library\\u2026 https://t.co/nFsg39g1yx\", 1515697552699633669], [\"#ClimateChange is the change from a pacefull planet to a hell mess \\ud83d\\udd25\\ud83d\\udd25\\nWe don\\u2019t understand the size of change which\\u2026 https://t.co/HHvYBw61ry\", 1515697490078670850], [\"#ptpa #ctto #naturenow #climatechange \\n\\n\\\"Everything counts, what you do matters for natural climate solutions.\\\"\\n\\nWa\\u2026 https://t.co/qRCY2ZpRSQ\", 1515696690640023555], [\"Recent climate &amp; temperature \\\"surprises\\\" in Antarctica were predicted by this 2015 article by Paul Mayewski et al.\\u2026 https://t.co/IAAuMbblnO\", 1515695213045497857], [\"#nature #environment #climatechange #Save Water #TeamGREEN https://t.co/Htntvp4IUJ\", 1515695097387810816], [\"How are US special interests undermining climate action? | TV Shows #ClimateAction #Green #EcoFriendly\\u2026 https://t.co/FNxpLtxZoI\", 1515695088386514945], [\"It is surprising that US govt wants to be the chief supplier of gas to Europe yet they keep talking about\\u2026 https://t.co/Vfih6qTNas\", 1515694119112392705], [\"@simonahac @timothycjames Tim, \\n\\nAre there too many #Independent women? Where is the #LNP divide &amp; conquer?\\n\\n&amp; The\\u2026 https://t.co/3JDyxZyrnB\", 1515693889004392452], [\"Setembre dry and hot\\n#ClimateChange is here https://t.co/IarSQsWDko #GlobalWarming #ClimateAction #ClimateCrisis \\nG\\u2026 https://t.co/Ddpwlcqwe4\", 1515693575257923596], [\"#EarthMonth Join us and help us deliver our #climateaction letters signed by constituents to @SenatorSinema on Frid\\u2026 https://t.co/97begv9qaM\", 1515693562775711745], [\"Suing over #CLIMATE change: Taking fossil fuel companies to court https://t.co/7jinT8ijh0  #GlobalWarming #climatechange\", 1515693508589465602], [\"Suing over #CLIMATE change: Taking fossil fuel companies to court https://t.co/IrEq4HoXGf #GPWX #GlobalWarming #climatechange\", 1515693431301054469], [\"Join us on April 21st for a discussion on Climate Finance &amp; the Commonwealth: Challenges &amp; Options with the Ramphal\\u2026 https://t.co/60HtCiqKKw\", 1515691834026209287], [\"In a recent @SOActuaries podcast, @peter_sousounis, VP &amp; Director of Climate Change Research, @Verisk, discussed th\\u2026 https://t.co/DpWpe5U9S5\", 1515691811817332740], [\"We can stop the worst of #ClimateChange but we must take #ClimateAction now! We can't continue to ignore the issue\\u2026 https://t.co/ZeKcL83fBU\", 1515691801591513089], [\"Oceans drive #ClimateChange\\nWater is the mineral that stores the most heat and travels around the world equalizing\\u2026 https://t.co/qibE3b5ptp\", 1515691304524656643], [\"@Earthjustice Yes! To stop #climatechange\\u2026\\n1\\u2014Maximum #energyefficiency, all sectors, saving ~1/2 of current energy.\\u2026 https://t.co/Q9hfhz75Cb\", 1515691043693350919], [\"Sun Sets on Mexico\\u2019s Paradise Beaches as Climate Crisis Hits Home https://t.co/RJPoYOk49a #PuertoVallarta\\u2026 https://t.co/zkMKFZtAm2\", 1515691029919322117], [\"[NOW] Learn about #HasdeoArand through 6 'Cs' in this #twitterspace \\n\\n#Constitution #Conservation #ClimateChange\\u2026 https://t.co/rd1ZYeFhdM\", 1515690769201307648], [\"[NOW] Learn about #HasdeoArand through 6 'Cs' in this #twitterspace \\n\\n#Constitution #Conservation #ClimateChange\\u2026 https://t.co/IksUKTInys\", 1515690718613880832], [\"This 20 seconds, is all you need as INDISPUTABLE EVIDENCE that voting for Pauline Hanson makes you an idiot.\\u2026 https://t.co/Sh0VbdvCPv\", 1515690670417096710], [\"[NOW] Learn about #HasdeoArand through 6 'Cs' in this #twitterspace \\n\\n#Constitution #Conservation #ClimateChange\\u2026 https://t.co/z3q7hIYSW7\", 1515690647751053313], [\"[NOW] Learn about #HasdeoArand through 6 'Cs' in this #twitterspace \\n\\n#Constitution #Conservation #ClimateChange\\u2026 https://t.co/VmUH1a23Xd\", 1515690590289031169], [\"The #Paris #climate deal never was realistic target \\ud83c\\udf21\\ud83c\\udf0d\\nIt was just to save appearances https://t.co/SGt9gu2ivR\\u2026 https://t.co/c9eXjgRYDN\", 1515690527424974851], [\"\\\"Manchin, who profits from his family\\u2019s West Virginia coal company, received more campaign donations from the oil,\\u2026 https://t.co/iOgjO2tZWs\", 1515690517845221376], [\"High Gas Prices WON'T Stop #ClimateChange \\n\\nhttps://t.co/8ixcGcgotY\\n\\n@Trumpgot2go @princepapa1 @valeriesmith344\\u2026 https://t.co/BGmtv5VDwv\", 1515690265234878467], [\"#CLIMATE change lawsuits: Taking fossil fuel firms to court https://t.co/pw785tjnIc  #GlobalWarming #climatechange\", 1515689765382799370], [\"#CLIMATE change lawsuits: Taking fossil fuel firms to court https://t.co/nuIOMOUwgB #GPWX #GlobalWarming #climatechange\", 1515689689931522051], [\"These five women are photographing \\ud83d\\udcf7 the effects of #ClimateChange around the world.  \\n\\nCheck out their projects vi\\u2026 https://t.co/1ppFoMp1W2\", 1515689035842396165]]\n"
     ]
    }
   ],
   "source": [
    "print(json_tweets)"
   ]
  },
  {
   "cell_type": "code",
   "execution_count": 15,
   "id": "8e93e9c1",
   "metadata": {},
   "outputs": [],
   "source": [
    "#Using Pandas library to report statisctics\n",
    "\n",
    "import pandas as pd"
   ]
  },
  {
   "cell_type": "code",
   "execution_count": 16,
   "id": "6a2a4c5a",
   "metadata": {},
   "outputs": [],
   "source": [
    "headers = [\"message\", \"tweet_id\"]"
   ]
  },
  {
   "cell_type": "code",
   "execution_count": 17,
   "id": "2dc2bea9",
   "metadata": {},
   "outputs": [],
   "source": [
    "#Import tweets to a pandas dataframe\n",
    "\n",
    "tweets_df = pd.DataFrame(tweets_list,columns=headers)"
   ]
  },
  {
   "cell_type": "code",
   "execution_count": 18,
   "id": "03c10d52",
   "metadata": {},
   "outputs": [
    {
     "data": {
      "text/html": [
       "<div>\n",
       "<style scoped>\n",
       "    .dataframe tbody tr th:only-of-type {\n",
       "        vertical-align: middle;\n",
       "    }\n",
       "\n",
       "    .dataframe tbody tr th {\n",
       "        vertical-align: top;\n",
       "    }\n",
       "\n",
       "    .dataframe thead th {\n",
       "        text-align: right;\n",
       "    }\n",
       "</style>\n",
       "<table border=\"1\" class=\"dataframe\">\n",
       "  <thead>\n",
       "    <tr style=\"text-align: right;\">\n",
       "      <th></th>\n",
       "      <th>message</th>\n",
       "      <th>tweet_id</th>\n",
       "    </tr>\n",
       "  </thead>\n",
       "  <tbody>\n",
       "    <tr>\n",
       "      <th>0</th>\n",
       "      <td>Not a great fan of this YT channel, but here t...</td>\n",
       "      <td>1515718912146608137</td>\n",
       "    </tr>\n",
       "    <tr>\n",
       "      <th>1</th>\n",
       "      <td>I'm going to need the Bahamian goverment and m...</td>\n",
       "      <td>1515718660714807298</td>\n",
       "    </tr>\n",
       "    <tr>\n",
       "      <th>2</th>\n",
       "      <td>Understand how #data can help with reducing th...</td>\n",
       "      <td>1515718488056246280</td>\n",
       "    </tr>\n",
       "    <tr>\n",
       "      <th>3</th>\n",
       "      <td>4 strategies for #Energy and #ClimateChange br...</td>\n",
       "      <td>1515718476962304003</td>\n",
       "    </tr>\n",
       "    <tr>\n",
       "      <th>4</th>\n",
       "      <td>The peppers at our farms are healthy, sweet an...</td>\n",
       "      <td>1515717982923771912</td>\n",
       "    </tr>\n",
       "    <tr>\n",
       "      <th>...</th>\n",
       "      <td>...</td>\n",
       "      <td>...</td>\n",
       "    </tr>\n",
       "    <tr>\n",
       "      <th>95</th>\n",
       "      <td>\"Manchin, who profits from his family’s West V...</td>\n",
       "      <td>1515690517845221376</td>\n",
       "    </tr>\n",
       "    <tr>\n",
       "      <th>96</th>\n",
       "      <td>High Gas Prices WON'T Stop #ClimateChange \\n\\n...</td>\n",
       "      <td>1515690265234878467</td>\n",
       "    </tr>\n",
       "    <tr>\n",
       "      <th>97</th>\n",
       "      <td>#CLIMATE change lawsuits: Taking fossil fuel f...</td>\n",
       "      <td>1515689765382799370</td>\n",
       "    </tr>\n",
       "    <tr>\n",
       "      <th>98</th>\n",
       "      <td>#CLIMATE change lawsuits: Taking fossil fuel f...</td>\n",
       "      <td>1515689689931522051</td>\n",
       "    </tr>\n",
       "    <tr>\n",
       "      <th>99</th>\n",
       "      <td>These five women are photographing 📷 the effec...</td>\n",
       "      <td>1515689035842396165</td>\n",
       "    </tr>\n",
       "  </tbody>\n",
       "</table>\n",
       "<p>100 rows × 2 columns</p>\n",
       "</div>"
      ],
      "text/plain": [
       "                                              message             tweet_id\n",
       "0   Not a great fan of this YT channel, but here t...  1515718912146608137\n",
       "1   I'm going to need the Bahamian goverment and m...  1515718660714807298\n",
       "2   Understand how #data can help with reducing th...  1515718488056246280\n",
       "3   4 strategies for #Energy and #ClimateChange br...  1515718476962304003\n",
       "4   The peppers at our farms are healthy, sweet an...  1515717982923771912\n",
       "..                                                ...                  ...\n",
       "95  \"Manchin, who profits from his family’s West V...  1515690517845221376\n",
       "96  High Gas Prices WON'T Stop #ClimateChange \\n\\n...  1515690265234878467\n",
       "97  #CLIMATE change lawsuits: Taking fossil fuel f...  1515689765382799370\n",
       "98  #CLIMATE change lawsuits: Taking fossil fuel f...  1515689689931522051\n",
       "99  These five women are photographing 📷 the effec...  1515689035842396165\n",
       "\n",
       "[100 rows x 2 columns]"
      ]
     },
     "execution_count": 18,
     "metadata": {},
     "output_type": "execute_result"
    }
   ],
   "source": [
    "tweets_df"
   ]
  },
  {
   "cell_type": "code",
   "execution_count": 19,
   "id": "dbc4a891",
   "metadata": {},
   "outputs": [],
   "source": [
    "tweets_df.to_csv('manual.csv', index = False)"
   ]
  },
  {
   "cell_type": "code",
   "execution_count": null,
   "id": "f106b89e-95b2-4e7a-8bfe-f0c4afbca7f2",
   "metadata": {},
   "outputs": [],
   "source": []
  }
 ],
 "metadata": {
  "kernelspec": {
   "display_name": "Python 3 (ipykernel)",
   "language": "python",
   "name": "python3"
  },
  "language_info": {
   "codemirror_mode": {
    "name": "ipython",
    "version": 3
   },
   "file_extension": ".py",
   "mimetype": "text/x-python",
   "name": "python",
   "nbconvert_exporter": "python",
   "pygments_lexer": "ipython3",
   "version": "3.9.10"
  }
 },
 "nbformat": 4,
 "nbformat_minor": 5
}
