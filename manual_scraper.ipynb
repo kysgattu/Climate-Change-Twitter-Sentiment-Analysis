{
 "cells": [
  {
   "cell_type": "code",
   "execution_count": 1,
   "id": "8d3d5465",
   "metadata": {},
   "outputs": [],
   "source": [
    "import tweepy"
   ]
  },
  {
   "cell_type": "code",
   "execution_count": 2,
   "id": "84e64d3a",
   "metadata": {},
   "outputs": [],
   "source": [
    "# API Key: Q2RsEqlaSBEQK8QDChDUNxxmz\n",
    "# API Secret Key: Nbw2VqOGfVUX0gyJGsT5c96RbglWqEdFrgF4h7WUUfUMTjoXl6\n",
    "# Access Token: 1486419199413174272-KpXEGGkJcVrtqNLYo5xUtAPKX62Gch\n",
    "# Access Secret Token: TUxRgI4xWx5bNn5RUaVc1ca7HVKsw1MkBVA14qWxKC3Kk\n",
    "\n",
    "consumer_key = \"Q2RsEqlaSBEQK8QDChDUNxxmz\"\n",
    "consumer_secret = \"Nbw2VqOGfVUX0gyJGsT5c96RbglWqEdFrgF4h7WUUfUMTjoXl6\"\n",
    "access_token = \"1486419199413174272-KpXEGGkJcVrtqNLYo5xUtAPKX62Gch\"\n",
    "access_token_secret = \"TUxRgI4xWx5bNn5RUaVc1ca7HVKsw1MkBVA14qWxKC3Kk\""
   ]
  },
  {
   "cell_type": "code",
   "execution_count": 3,
   "id": "b6a7c859",
   "metadata": {},
   "outputs": [],
   "source": [
    "#Establish Connection to Twitter API\n",
    "\n",
    "auth = tweepy.OAuthHandler(consumer_key, consumer_secret)\n",
    "auth.set_access_token(access_token, access_token_secret)\n",
    "api = tweepy.API(auth, wait_on_rate_limit=True)"
   ]
  },
  {
   "cell_type": "code",
   "execution_count": 4,
   "id": "f9107ec1",
   "metadata": {},
   "outputs": [],
   "source": [
    "#Hashtag used for scrapping tweets\n",
    "\n",
    "hashtag = \"#climatechange -filter:retweets\""
   ]
  },
  {
   "cell_type": "code",
   "execution_count": 5,
   "id": "db9f5cf9",
   "metadata": {},
   "outputs": [],
   "source": [
    "#list to store the tweets\n",
    "\n",
    "tweets_list = []"
   ]
  },
  {
   "cell_type": "code",
   "execution_count": 6,
   "id": "2daa9c28",
   "metadata": {},
   "outputs": [
    {
     "name": "stdout",
     "output_type": "stream",
     "text": [
      "Tweets Scrapped Successfully!\n"
     ]
    }
   ],
   "source": [
    "#Scrapping Tweets based on hashtag\n",
    "\n",
    "tweets_by_hashtag = tweepy.Cursor(api.search_tweets, q=hashtag, lang='en').items(500)\n",
    "print(\"Tweets Scrapped Successfully!\")"
   ]
  },
  {
   "cell_type": "code",
   "execution_count": 7,
   "id": "8eeb7cc4",
   "metadata": {},
   "outputs": [],
   "source": [
    "#Pulling and information from tweets and loading to the list using iterator object\n",
    "\n",
    "for tweet in tweets_by_hashtag:\n",
    "    '''\n",
    "    tweet_id = tweet.id \n",
    "    user_id = tweet.user.id\n",
    "    tweeted_by = tweet.user.name\n",
    "    tweet_content = str(tweet.text)\n",
    "    no_of_retweets = tweet.retweet_count\n",
    "    no_of_favourites = tweet.favorite_count\n",
    "    '''    \n",
    "    tweets_list.append([str(tweet.text), tweet.id])\n"
   ]
  },
  {
   "cell_type": "code",
   "execution_count": 20,
   "id": "a71c850e",
   "metadata": {
    "tags": []
   },
   "outputs": [],
   "source": [
    "#print(tweets_list)"
   ]
  },
  {
   "cell_type": "code",
   "execution_count": 9,
   "id": "d0b00eff",
   "metadata": {},
   "outputs": [],
   "source": [
    "#Creating Seperate List with Headers for storing tweets in a JSON File\n",
    "\n",
    "tweets_list_for_json = [\"message\", \"tweet_id\"]"
   ]
  },
  {
   "cell_type": "code",
   "execution_count": 10,
   "id": "27c6a26a",
   "metadata": {},
   "outputs": [],
   "source": [
    "#Adding the tweets to the JSON Tweet List\n",
    "\n",
    "tweets_list_for_json.extend(tweets_list)"
   ]
  },
  {
   "cell_type": "code",
   "execution_count": 21,
   "id": "5b681d09",
   "metadata": {
    "tags": []
   },
   "outputs": [],
   "source": [
    "#print(tweets_list_for_json)"
   ]
  },
  {
   "cell_type": "code",
   "execution_count": 12,
   "id": "0e00f1a4",
   "metadata": {},
   "outputs": [],
   "source": [
    "import json"
   ]
  },
  {
   "cell_type": "code",
   "execution_count": 13,
   "id": "f6744276",
   "metadata": {},
   "outputs": [],
   "source": [
    "#Exporting the Tweets scrapped to JSON Format\n",
    "\n",
    "json_tweets=json.dumps(tweets_list_for_json)"
   ]
  },
  {
   "cell_type": "code",
   "execution_count": 22,
   "id": "2fe6b7bf",
   "metadata": {
    "scrolled": true
   },
   "outputs": [],
   "source": [
    "#print(json_tweets)"
   ]
  },
  {
   "cell_type": "code",
   "execution_count": 15,
   "id": "8e93e9c1",
   "metadata": {},
   "outputs": [],
   "source": [
    "#Using Pandas library to report statisctics\n",
    "\n",
    "import pandas as pd"
   ]
  },
  {
   "cell_type": "code",
   "execution_count": 16,
   "id": "6a2a4c5a",
   "metadata": {},
   "outputs": [],
   "source": [
    "headers = [\"message\", \"tweet_id\"]"
   ]
  },
  {
   "cell_type": "code",
   "execution_count": 17,
   "id": "2dc2bea9",
   "metadata": {},
   "outputs": [],
   "source": [
    "#Import tweets to a pandas dataframe\n",
    "\n",
    "tweets_df = pd.DataFrame(tweets_list,columns=headers)"
   ]
  },
  {
   "cell_type": "code",
   "execution_count": 18,
   "id": "03c10d52",
   "metadata": {},
   "outputs": [
    {
     "data": {
      "text/html": [
       "<div>\n",
       "<style scoped>\n",
       "    .dataframe tbody tr th:only-of-type {\n",
       "        vertical-align: middle;\n",
       "    }\n",
       "\n",
       "    .dataframe tbody tr th {\n",
       "        vertical-align: top;\n",
       "    }\n",
       "\n",
       "    .dataframe thead th {\n",
       "        text-align: right;\n",
       "    }\n",
       "</style>\n",
       "<table border=\"1\" class=\"dataframe\">\n",
       "  <thead>\n",
       "    <tr style=\"text-align: right;\">\n",
       "      <th></th>\n",
       "      <th>message</th>\n",
       "      <th>tweet_id</th>\n",
       "    </tr>\n",
       "  </thead>\n",
       "  <tbody>\n",
       "    <tr>\n",
       "      <th>0</th>\n",
       "      <td>Told you worthless humans that #climatechange ...</td>\n",
       "      <td>1517891816737103874</td>\n",
       "    </tr>\n",
       "    <tr>\n",
       "      <th>1</th>\n",
       "      <td>#Climatechange campaigners held a wave of prot...</td>\n",
       "      <td>1517891420778082305</td>\n",
       "    </tr>\n",
       "    <tr>\n",
       "      <th>2</th>\n",
       "      <td>THIS on #StatusQuoJoe and COVID (tho a bit hyp...</td>\n",
       "      <td>1517890404863168512</td>\n",
       "    </tr>\n",
       "    <tr>\n",
       "      <th>3</th>\n",
       "      <td>Fake philanthropy = claiming to be concerned a...</td>\n",
       "      <td>1517890106526511104</td>\n",
       "    </tr>\n",
       "    <tr>\n",
       "      <th>4</th>\n",
       "      <td>Sir David Attenborough warns that it will be t...</td>\n",
       "      <td>1517890035844067331</td>\n",
       "    </tr>\n",
       "    <tr>\n",
       "      <th>...</th>\n",
       "      <td>...</td>\n",
       "      <td>...</td>\n",
       "    </tr>\n",
       "    <tr>\n",
       "      <th>495</th>\n",
       "      <td>For every one degree increase in temperature, ...</td>\n",
       "      <td>1517802207134896128</td>\n",
       "    </tr>\n",
       "    <tr>\n",
       "      <th>496</th>\n",
       "      <td>@im007ss @DubeyRiya2322 If soil goes extinct, ...</td>\n",
       "      <td>1517802110338875397</td>\n",
       "    </tr>\n",
       "    <tr>\n",
       "      <th>497</th>\n",
       "      <td>WILDLIFE PROGRAMMING ETC UNLAWFULLY DEVELOPED ...</td>\n",
       "      <td>1517801774219935744</td>\n",
       "    </tr>\n",
       "    <tr>\n",
       "      <th>498</th>\n",
       "      <td>April-June 2022 edition of @RiskCompMag, @FwwR...</td>\n",
       "      <td>1517801708855955457</td>\n",
       "    </tr>\n",
       "    <tr>\n",
       "      <th>499</th>\n",
       "      <td>CO2 monitoring: We can now directly link emiss...</td>\n",
       "      <td>1517801708268761089</td>\n",
       "    </tr>\n",
       "  </tbody>\n",
       "</table>\n",
       "<p>500 rows × 2 columns</p>\n",
       "</div>"
      ],
      "text/plain": [
       "                                               message             tweet_id\n",
       "0    Told you worthless humans that #climatechange ...  1517891816737103874\n",
       "1    #Climatechange campaigners held a wave of prot...  1517891420778082305\n",
       "2    THIS on #StatusQuoJoe and COVID (tho a bit hyp...  1517890404863168512\n",
       "3    Fake philanthropy = claiming to be concerned a...  1517890106526511104\n",
       "4    Sir David Attenborough warns that it will be t...  1517890035844067331\n",
       "..                                                 ...                  ...\n",
       "495  For every one degree increase in temperature, ...  1517802207134896128\n",
       "496  @im007ss @DubeyRiya2322 If soil goes extinct, ...  1517802110338875397\n",
       "497  WILDLIFE PROGRAMMING ETC UNLAWFULLY DEVELOPED ...  1517801774219935744\n",
       "498  April-June 2022 edition of @RiskCompMag, @FwwR...  1517801708855955457\n",
       "499  CO2 monitoring: We can now directly link emiss...  1517801708268761089\n",
       "\n",
       "[500 rows x 2 columns]"
      ]
     },
     "execution_count": 18,
     "metadata": {},
     "output_type": "execute_result"
    }
   ],
   "source": [
    "tweets_df"
   ]
  },
  {
   "cell_type": "code",
   "execution_count": 19,
   "id": "dbc4a891",
   "metadata": {},
   "outputs": [],
   "source": [
    "tweets_df.to_csv('manual.csv', index = False)"
   ]
  },
  {
   "cell_type": "code",
   "execution_count": null,
   "id": "f106b89e-95b2-4e7a-8bfe-f0c4afbca7f2",
   "metadata": {},
   "outputs": [],
   "source": []
  }
 ],
 "metadata": {
  "kernelspec": {
   "display_name": "Python 3 (ipykernel)",
   "language": "python",
   "name": "python3"
  },
  "language_info": {
   "codemirror_mode": {
    "name": "ipython",
    "version": 3
   },
   "file_extension": ".py",
   "mimetype": "text/x-python",
   "name": "python",
   "nbconvert_exporter": "python",
   "pygments_lexer": "ipython3",
   "version": "3.9.10"
  }
 },
 "nbformat": 4,
 "nbformat_minor": 5
}
